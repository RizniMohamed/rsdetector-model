{
  "cells": [
    {
      "cell_type": "code",
      "execution_count": null,
      "metadata": {
        "colab": {
          "base_uri": "https://localhost:8080/"
        },
        "id": "Rrm0Wvqs7n-8",
        "outputId": "2c7a48be-ddce-48a7-bc48-20d09b08db65"
      },
      "outputs": [
        {
          "output_type": "stream",
          "name": "stdout",
          "text": [
            "Drive already mounted at /content/drive; to attempt to forcibly remount, call drive.mount(\"/content/drive\", force_remount=True).\n"
          ]
        }
      ],
      "source": [
        "from google.colab import drive\n",
        "drive.mount('/content/drive')"
      ]
    },
    {
      "cell_type": "code",
      "execution_count": null,
      "metadata": {
        "id": "n7Cxftyg840f"
      },
      "outputs": [],
      "source": [
        "import pandas as pd\n",
        "import numpy as np\n",
        "import matplotlib.pyplot as plt\n",
        "import seaborn as sns"
      ]
    },
    {
      "cell_type": "code",
      "execution_count": null,
      "metadata": {
        "id": "q3cdtUfj8qoA"
      },
      "outputs": [],
      "source": [
        "base_path = '/content/drive/MyDrive/ICBT BSc/RSDetector/'\n",
        "recognition_dataset_path = base_path + 'dataset_images'\n",
        "video_path = base_path + 'dataset_videos'\n",
        "sign_info_path = base_path + 'sign_data.csv'"
      ]
    },
    {
      "cell_type": "code",
      "execution_count": null,
      "metadata": {
        "id": "02IjYamARsMY"
      },
      "outputs": [],
      "source": [
        "#!unzip '/content/drive/MyDrive/ICBT BSc/RSDetector/Dataset.zip' -d '/content/drive/MyDrive/ICBT BSc/RSDetector/'"
      ]
    },
    {
      "cell_type": "code",
      "execution_count": null,
      "metadata": {
        "id": "mpA-IVzDcYBs"
      },
      "outputs": [],
      "source": [
        "sign_info = pd.read_csv(sign_info_path)"
      ]
    },
    {
      "cell_type": "code",
      "execution_count": null,
      "metadata": {
        "id": "xsdPSab8SWj7"
      },
      "outputs": [],
      "source": [
        "sign_info"
      ]
    },
    {
      "cell_type": "markdown",
      "source": [
        "# Dataset"
      ],
      "metadata": {
        "id": "fiYDTIVJCmrf"
      }
    },
    {
      "cell_type": "markdown",
      "source": [
        "## Detection dataset"
      ],
      "metadata": {
        "id": "BYbmPlh6-7Mt"
      }
    },
    {
      "cell_type": "code",
      "execution_count": null,
      "metadata": {
        "id": "f2CqkGMIWVNL"
      },
      "outputs": [],
      "source": [
        "!pip install roboflow"
      ]
    },
    {
      "cell_type": "code",
      "execution_count": null,
      "metadata": {
        "id": "Gh3eUeubW8I0"
      },
      "outputs": [],
      "source": [
        "from roboflow import Roboflow\n",
        "\n",
        "rf = Roboflow(api_key=\"idKFK8PupLHRjgqWDlCC\")\n",
        "project = rf.workspace(\"rsdetector\").project(\"roadsign-frnif\")\n",
        "dataset = project.version(4).download(\"yolov8\")"
      ]
    },
    {
      "cell_type": "markdown",
      "metadata": {
        "id": "GGDSUzgtdlOR"
      },
      "source": [
        "# Model Training"
      ]
    },
    {
      "cell_type": "markdown",
      "source": [
        "## Detection model training"
      ],
      "metadata": {
        "id": "wGCooO8K_JAq"
      }
    },
    {
      "cell_type": "code",
      "execution_count": null,
      "metadata": {
        "id": "8bjqSaandkzA"
      },
      "outputs": [],
      "source": [
        "# Install the ultralytics package from PyPI\n",
        "!pip install ultralytics"
      ]
    },
    {
      "cell_type": "code",
      "execution_count": null,
      "metadata": {
        "id": "d4OR9Eq0rEUM"
      },
      "outputs": [],
      "source": [
        "from ultralytics import settings\n",
        "\n",
        "settings.update({'runs_dir': '/content/drive/MyDrive/ICBT BSc/RSDetector/model'})"
      ]
    },
    {
      "cell_type": "code",
      "execution_count": null,
      "metadata": {
        "id": "VEiNRW82ceKE"
      },
      "outputs": [],
      "source": [
        "# segementation\n",
        "from ultralytics import YOLO\n",
        "\n",
        "# Load a model\n",
        "model = YOLO('yolov8n-seg.yaml').load('yolov8n.pt')  # build from YAML and transfer weights\n",
        "\n",
        "# Train the model\n",
        "results = model.train(data= \"{}/data.yaml\".format(dataset.location), epochs=100, imgsz=640)"
      ]
    },
    {
      "cell_type": "markdown",
      "source": [
        "# Final Model"
      ],
      "metadata": {
        "id": "OLj4yFSBByTH"
      }
    },
    {
      "cell_type": "markdown",
      "source": [
        "## Detection final model"
      ],
      "metadata": {
        "id": "tso8AsKm_W0P"
      }
    },
    {
      "cell_type": "code",
      "execution_count": null,
      "metadata": {
        "id": "GioDed7brsEM"
      },
      "outputs": [],
      "source": [
        "from ultralytics import YOLO\n",
        "final_model = YOLO('/content/drive/MyDrive/ICBT BSc/RSDetector/model/segment/train13/weights/best.pt')\n",
        "names = final_model.names\n"
      ]
    },
    {
      "cell_type": "markdown",
      "source": [
        "# Prediction"
      ],
      "metadata": {
        "id": "nrfG5H_AB3-b"
      }
    },
    {
      "cell_type": "markdown",
      "source": [
        "## Image Test"
      ],
      "metadata": {
        "id": "aU8SyryJB9ox"
      }
    },
    {
      "cell_type": "code",
      "execution_count": null,
      "metadata": {
        "id": "xPoDVcoN6h1w"
      },
      "outputs": [],
      "source": [
        "nopark = '/content/drive/MyDrive/ICBT BSc/RSDetector/Slide2.PNG'"
      ]
    },
    {
      "cell_type": "code",
      "execution_count": null,
      "metadata": {
        "id": "TNj_9Z4-6hcS"
      },
      "outputs": [],
      "source": [
        "from PIL import Image\n",
        "from ultralytics import YOLO\n",
        "import cv2\n",
        "import matplotlib.pyplot as plt\n",
        "\n",
        "results = final_model.predict(nopark,conf=0.6)  # results list\n",
        "Image.fromarray(results[0].plot(labels=True)[...,::-1])\n"
      ]
    },
    {
      "cell_type": "code",
      "source": [
        "round(float(results[0].boxes.conf),2)\n",
        "\n",
        "for r in results:\n",
        "  for k in r.boxes:\n",
        "    print(k.cls)\n",
        "    print(k.conf)\n"
      ],
      "metadata": {
        "colab": {
          "base_uri": "https://localhost:8080/"
        },
        "id": "hSzO8CPTaIXm",
        "outputId": "07d3896b-8fe3-4fbc-e902-31b2952c60f0"
      },
      "execution_count": null,
      "outputs": [
        {
          "output_type": "stream",
          "name": "stdout",
          "text": [
            "tensor([6.], device='cuda:0')\n",
            "tensor([0.9330], device='cuda:0')\n"
          ]
        }
      ]
    },
    {
      "cell_type": "code",
      "source": [
        "bboxes = results[0].boxes.xyxy[0].cpu().numpy()\n",
        "image = cv2.imread(nopark)\n",
        "\n",
        "# Crop the image using the bounding box coordinates\n",
        "x1, y1, x2, y2 = bboxes.astype(int)\n",
        "\n",
        "cropped_image = image[y1:y2, x1:x2]\n",
        "\n",
        "# Save the cropped images\n",
        "cv2.imwrite(f'cropped_image.jpg', cropped_image)"
      ],
      "metadata": {
        "colab": {
          "base_uri": "https://localhost:8080/"
        },
        "id": "ftyE-0xzgAie",
        "outputId": "da9291c2-43b1-4c29-9cd4-3928f0a133da"
      },
      "execution_count": null,
      "outputs": [
        {
          "output_type": "execute_result",
          "data": {
            "text/plain": [
              "True"
            ]
          },
          "metadata": {},
          "execution_count": 26
        }
      ]
    },
    {
      "cell_type": "markdown",
      "source": [
        "## Video Test"
      ],
      "metadata": {
        "id": "TvaSZFddCBfu"
      }
    },
    {
      "cell_type": "code",
      "source": [
        "def crop_cls_image(x1, y1, x2, y2,resized_frame):\n",
        "  # Calculate the center of the bounding box\n",
        "  center_x = (x1 + x2) // 2\n",
        "  center_y = (y1 + y2) // 2\n",
        "\n",
        "  # Calculate the new cropping coordinates to ensure a 224x224 crop\n",
        "  crop_x1 = max(center_x - crop_size // 2, 0)\n",
        "  crop_x2 = min(crop_x1 + crop_size, resized_frame.shape[1])\n",
        "  crop_y1 = max(center_y - crop_size // 2, 0)\n",
        "  crop_y2 = min(crop_y1 + crop_size, resized_frame.shape[0])\n",
        "\n",
        "  # Crop the region, including background if needed, to get a 224x224 image\n",
        "  cropped_region = resized_frame[crop_y1:crop_y2, crop_x1:crop_x2]\n",
        "\n",
        "  # Resize the cropped region to 224x224\n",
        "  cropped_image = cv2.resize(cropped_region, (crop_size, crop_size))\n",
        "\n",
        "  return cropped_image\n",
        "\n",
        "def detection(frame,prev_cls):\n",
        "\n",
        "  resized_frame = cv2.resize(frame, (640, 640))\n",
        "  results = final_model(resized_frame,conf=0.95)\n",
        "\n",
        "  for r in results:\n",
        "    if r:\n",
        "      bboxes = r.boxes.xyxy[0].cpu().numpy()\n",
        "      x1, y1, x2, y2 = bboxes.astype(int)\n",
        "      for c in r.boxes:\n",
        "        conf =  round(float(c.conf),2)\n",
        "        cls =  names[int(c.cls)]\n",
        "        if prev_cls != cls:\n",
        "          prev_cls = cls\n",
        "          return (prev_cls,conf, crop_cls_image(x1, y1, x2, y2,resized_frame))\n",
        "    return (None,None,None)"
      ],
      "metadata": {
        "id": "jFYRxVNU3qg2"
      },
      "execution_count": null,
      "outputs": []
    },
    {
      "cell_type": "code",
      "execution_count": null,
      "metadata": {
        "id": "ZdoTXC4x11RJ"
      },
      "outputs": [],
      "source": [
        "import cv2\n",
        "import numpy as np\n",
        "\n",
        "source = '/content/drive/MyDrive/ICBT BSc/RSDetector/dataset_videos/4-1.mp4'\n",
        "cap = cv2.VideoCapture(source)\n",
        "\n",
        "# 10 frames per second\n",
        "skip_factor = 10\n",
        "counter = 0\n",
        "\n",
        "generate_detection_video = False\n",
        "annotated_frames = []\n",
        "\n",
        "cropped_images = {}\n",
        "cls = None\n",
        "crop_size = 64\n",
        "\n",
        "\n",
        "while cap.isOpened():\n",
        "    success, frame = cap.read()\n",
        "\n",
        "    if not success:\n",
        "        print(\"Finished reading the video.\")\n",
        "        break\n",
        "\n",
        "    if counter % skip_factor == 0:\n",
        "       cls, conf, detected_image = detection(frame,cls)\n",
        "       cropped_images[cls] = (conf,detected_image)\n",
        "\n",
        "\n",
        "\n",
        "       if generate_detection_video:\n",
        "          annotated_frame = results[0].plot(labels=False)\n",
        "          annotated_frames.append(annotated_frame)\n",
        "    counter += 1\n",
        "\n",
        "cap.release()"
      ]
    },
    {
      "cell_type": "code",
      "source": [
        "cv2.imwrite('cropped_image {}.jpg'.format(1), cropped_images['2'][1])"
      ],
      "metadata": {
        "id": "newE9w2WR5At"
      },
      "execution_count": null,
      "outputs": []
    },
    {
      "cell_type": "code",
      "source": [
        "\n",
        "cv2.imwrite('cropped_image {}.jpg'.format(1), cv2.resize(cropped_images['4'][1], (224, 224)) )"
      ],
      "metadata": {
        "colab": {
          "base_uri": "https://localhost:8080/"
        },
        "id": "K8Q7Wh-Ly4Vk",
        "outputId": "6c1abdc8-649d-4ee1-90b4-92b5a0e4a73c"
      },
      "execution_count": null,
      "outputs": [
        {
          "output_type": "execute_result",
          "data": {
            "text/plain": [
              "True"
            ]
          },
          "metadata": {},
          "execution_count": 53
        }
      ]
    },
    {
      "cell_type": "code",
      "source": [
        "cropped_images"
      ],
      "metadata": {
        "id": "IfnOgiqYo1sT"
      },
      "execution_count": null,
      "outputs": []
    },
    {
      "cell_type": "code",
      "source": [
        "len(cropped_images['6'])"
      ],
      "metadata": {
        "id": "j46IfwBxStyI"
      },
      "execution_count": null,
      "outputs": []
    },
    {
      "cell_type": "markdown",
      "source": [
        "### save video"
      ],
      "metadata": {
        "id": "xSA4hAnPAScd"
      }
    },
    {
      "cell_type": "code",
      "source": [
        "import cv2\n",
        "import numpy as np\n",
        "\n",
        "# Define the output video filename and codec\n",
        "output_filename = 'annotated_video.avi'  # Change the filename and extension as needed\n",
        "fourcc = cv2.VideoWriter_fourcc(*'XVID')  # You can change the codec as needed\n",
        "\n",
        "# Get the dimensions of the first frame to set up the VideoWriter\n",
        "frame_height, frame_width, _ = annotated_frames[0].shape\n",
        "frame_rate = 30  # Adjust the frame rate as needed\n",
        "\n",
        "# Create the VideoWriter object\n",
        "out = cv2.VideoWriter(output_filename, fourcc, frame_rate, (frame_width, frame_height))\n",
        "\n",
        "# Loop through the annotated frames and write them to the video\n",
        "for frame in annotated_frames:\n",
        "    # Write the frame to the video\n",
        "    out.write(frame)\n",
        "\n",
        "# Release the video writer\n",
        "out.release()\n",
        "\n",
        "print(\"Annotated video saved as\", output_filename)\n"
      ],
      "metadata": {
        "colab": {
          "base_uri": "https://localhost:8080/"
        },
        "id": "vIN7co9ikhoK",
        "outputId": "19d1c43d-1265-4cab-bd16-37f8fb97e551"
      },
      "execution_count": null,
      "outputs": [
        {
          "output_type": "stream",
          "name": "stdout",
          "text": [
            "Annotated video saved as annotated_video.avi\n"
          ]
        }
      ]
    }
  ],
  "metadata": {
    "accelerator": "GPU",
    "colab": {
      "provenance": [],
      "collapsed_sections": [
        "TvaSZFddCBfu"
      ]
    },
    "kernelspec": {
      "display_name": "Python 3",
      "name": "python3"
    },
    "language_info": {
      "name": "python"
    }
  },
  "nbformat": 4,
  "nbformat_minor": 0
}