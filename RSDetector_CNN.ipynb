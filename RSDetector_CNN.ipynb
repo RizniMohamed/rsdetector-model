{
  "cells": [
    {
      "cell_type": "code",
      "execution_count": null,
      "metadata": {
        "id": "n7Cxftyg840f"
      },
      "outputs": [],
      "source": [
        "import pandas as pd\n",
        "import numpy as np\n",
        "import matplotlib.pyplot as plt\n",
        "import seaborn as sns"
      ]
    },
    {
      "cell_type": "code",
      "execution_count": null,
      "metadata": {
        "id": "5jpEejGdVQra"
      },
      "outputs": [],
      "source": [
        "pip install roboflow"
      ]
    },
    {
      "cell_type": "code",
      "execution_count": null,
      "metadata": {
        "id": "vZG05_PMbMn2"
      },
      "outputs": [],
      "source": [
        "from roboflow import Roboflow\n",
        "\n",
        "rf = Roboflow(api_key=\"idKFK8PupLHRjgqWDlCC\")\n",
        "project = rf.workspace(\"rsdetector\").project(\"roadsign-clf\")\n",
        "dataset = project.version(1).download(\"folder\")\n"
      ]
    },
    {
      "cell_type": "code",
      "execution_count": 45,
      "metadata": {
        "id": "040_Tf-d-Ttl"
      },
      "outputs": [],
      "source": [
        "import tensorflow as tf\n",
        "from tensorflow.keras import layers, models\n",
        "from tensorflow.keras.preprocessing.image import ImageDataGenerator\n",
        "from tensorflow.keras.optimizers import Adam\n",
        "from tensorflow.keras.utils import to_categorical\n",
        "\n",
        "# Set your dataset path and parameters\n",
        "train_data_dir = './roadsign-clf-2/train/'\n",
        "test_data_dir = './roadsign-clf-2/valid/'\n",
        "batch_size = 32\n",
        "num_epochs = 10\n",
        "image_size = (64, 64)\n",
        "num_classes = 4  # Change this to the number of classes in your dataset\n"
      ]
    },
    {
      "cell_type": "code",
      "execution_count": null,
      "metadata": {
        "colab": {
          "base_uri": "https://localhost:8080/"
        },
        "id": "I5YDGX-6-WaF",
        "outputId": "5c5f8e84-59d4-4c7f-8d29-648fe34ee0ef"
      },
      "outputs": [],
      "source": [
        "import cv2\n",
        "\n",
        "# Data augmentation for the training dataset\n",
        "train_datagen = ImageDataGenerator(\n",
        "    rescale=1.0 / 255,\n",
        "    fill_mode='nearest'\n",
        ")\n",
        "\n",
        "# Load and preprocess training data\n",
        "train_generator = train_datagen.flow_from_directory(\n",
        "    train_data_dir,\n",
        "    target_size=image_size,\n",
        "    batch_size=batch_size,\n",
        "    class_mode='categorical',\n",
        ")"
      ]
    },
    {
      "cell_type": "code",
      "execution_count": null,
      "metadata": {
        "colab": {
          "base_uri": "https://localhost:8080/"
        },
        "id": "zaMUZK1R-1kt",
        "outputId": "c9012556-4add-4466-88ae-f5a08ed3ce35"
      },
      "outputs": [],
      "source": [
        "# Preprocess test data\n",
        "test_datagen = ImageDataGenerator(\n",
        "    rescale=1.0 / 255,\n",
        ")\n",
        "\n",
        "test_generator = test_datagen.flow_from_directory(\n",
        "    test_data_dir,\n",
        "    target_size=image_size,\n",
        "    batch_size=batch_size,\n",
        "    class_mode='categorical',\n",
        ")"
      ]
    },
    {
      "cell_type": "code",
      "execution_count": null,
      "metadata": {
        "id": "A_HL6u43_t-u"
      },
      "outputs": [],
      "source": [
        "from tensorflow.keras.metrics import Recall, Precision\n",
        "from tensorflow.keras import regularizers\n",
        "from tensorflow.keras.layers import GlobalAveragePooling2D, Dropout, BatchNormalization\n",
        "from tensorflow.keras.optimizers import Adam\n",
        "\n",
        "# Create Precision and Recall objects outside the function\n",
        "precision_obj = Precision()\n",
        "recall_obj = Recall()\n",
        "\n",
        "def f1_score(y_true, y_pred):\n",
        "    precision_val = precision_obj(y_true, y_pred)\n",
        "    recall_val = recall_obj(y_true, y_pred)\n",
        "    return 2*((precision_val*recall_val)/(precision_val+recall_val+1e-5))\n",
        "\n",
        "\n",
        "model = models.Sequential()\n",
        "model.add(layers.Conv2D(64, (3, 3), activation='relu', input_shape=(64, 64, 3), kernel_regularizer=regularizers.l2(0.01)))\n",
        "model.add(BatchNormalization())\n",
        "model.add(layers.Conv2D(64, (3, 3), activation='relu', kernel_regularizer=regularizers.l2(0.01)))\n",
        "model.add(BatchNormalization())\n",
        "model.add(layers.MaxPooling2D((2, 2)))\n",
        "model.add(Dropout(0.25))  # Consider adding dropout after pooling layers\n",
        "\n",
        "model.add(layers.Conv2D(128, (3, 3), activation='relu', kernel_regularizer=regularizers.l2(0.01)))\n",
        "model.add(BatchNormalization())\n",
        "model.add(layers.Conv2D(128, (3, 3), activation='relu', kernel_regularizer=regularizers.l2(0.01)))\n",
        "model.add(BatchNormalization())\n",
        "model.add(layers.MaxPooling2D((2, 2)))\n",
        "model.add(Dropout(0.25))\n",
        "\n",
        "model.add(layers.Conv2D(256, (3, 3), activation='relu', kernel_regularizer=regularizers.l2(0.01)))\n",
        "model.add(BatchNormalization())\n",
        "model.add(layers.Conv2D(256, (3, 3), activation='relu', kernel_regularizer=regularizers.l2(0.01)))\n",
        "model.add(BatchNormalization())\n",
        "model.add(layers.MaxPooling2D((2, 2)))\n",
        "\n",
        "model.add(GlobalAveragePooling2D())\n",
        "model.add(Dropout(0.5))\n",
        "model.add(layers.Dense(1024, activation='relu', kernel_regularizer=regularizers.l2(0.01)))\n",
        "model.add(BatchNormalization())\n",
        "model.add(Dropout(0.5))\n",
        "model.add(layers.Dense(512, activation='relu', kernel_regularizer=regularizers.l2(0.01)))\n",
        "model.add(BatchNormalization())\n",
        "model.add(layers.Dense(num_classes, activation='softmax'))\n",
        "\n",
        "# Compile the model\n",
        "model.compile(optimizer=Adam(learning_rate=0.001),\n",
        "              loss='categorical_crossentropy',\n",
        "              metrics=[Recall(name=\"recall\"), Precision(name=\"precision\"), f1_score])\n",
        "\n",
        "model.summary()\n"
      ]
    },
    {
      "cell_type": "code",
      "execution_count": null,
      "metadata": {
        "id": "mMFfae_w_zzQ"
      },
      "outputs": [],
      "source": [
        "from tensorflow.keras.callbacks import EarlyStopping, ReduceLROnPlateau\n",
        "\n",
        "early_stopping = EarlyStopping(monitor='val_loss', patience=7, restore_best_weights=True)\n",
        "reduce_lr = ReduceLROnPlateau(monitor='val_loss', factor=0.2, patience=5, min_lr=0.00001)\n",
        "\n",
        "# Train the model\n",
        "history = model.fit(\n",
        "    train_generator,\n",
        "    steps_per_epoch=train_generator.samples // batch_size,\n",
        "    epochs=100,\n",
        "    validation_data=test_generator,\n",
        "    validation_steps=test_generator.samples // batch_size,\n",
        "    callbacks=[early_stopping, reduce_lr]\n",
        ")"
      ]
    },
    {
      "cell_type": "code",
      "execution_count": null,
      "metadata": {
        "id": "PQntPHe73GtN"
      },
      "outputs": [],
      "source": [
        "model_save_path = './cnn/14800'\n",
        "model.save(model_save_path)\n"
      ]
    },
    {
      "cell_type": "code",
      "execution_count": null,
      "metadata": {
        "id": "PnRLP0gt4Qhj"
      },
      "outputs": [],
      "source": [
        "from tensorflow.keras.models import load_model\n",
        "\n",
        "def f1_score(y_true, y_pred):\n",
        "    precision_val = precision_obj(y_true, y_pred)\n",
        "    recall_val = recall_obj(y_true, y_pred)\n",
        "    return 2*((precision_val*recall_val)/(precision_val+recall_val+1e-5))\n",
        "\n",
        "model_load_path = '/content/drive/MyDrive/ICBT BSc/RSDetector/model/cnn/13800'\n",
        "final_model_recognition = load_model(model_load_path,custom_objects={'f1_score': f1_score})"
      ]
    },
    {
      "cell_type": "code",
      "execution_count": null,
      "metadata": {
        "colab": {
          "base_uri": "https://localhost:8080/",
          "height": 1000
        },
        "id": "fYUmkq274X6o",
        "outputId": "1d7b8808-b4b6-4255-e199-05b7e650de2a"
      },
      "outputs": [],
      "source": [
        "import matplotlib.pyplot as plt\n",
        "\n",
        "# Create a figure with a 2x2 grid of subplots\n",
        "fig, axs = plt.subplots(2, 2, figsize=(12, 10))\n",
        "\n",
        "# Plot training & validation loss values\n",
        "axs[0, 0].plot(history.history['loss'], label='Training Loss')\n",
        "axs[0, 0].plot(history.history['val_loss'], label='Validation Loss')\n",
        "axs[0, 0].set_title('Model Loss')\n",
        "axs[0, 0].set_xlabel('Epoch')\n",
        "axs[0, 0].set_ylabel('Loss')\n",
        "axs[0, 0].legend()\n",
        "\n",
        "num = 8\n",
        "lab_recall = 'recall'\n",
        "lab_precision = 'precision'\n",
        "lab_f1_score = 'f1_score'\n",
        "\n",
        "# Plot training & validation recall values\n",
        "axs[0, 1].plot(history.history['{}'.format(lab_recall)], label='Training {}'.format(lab_recall))\n",
        "axs[0, 1].plot(history.history['val_{}'.format(lab_recall)], label='Validation {}'.format(lab_recall))\n",
        "axs[0, 1].set_title('Model {}'.format(lab_recall))\n",
        "axs[0, 1].set_xlabel('Epoch')\n",
        "axs[0, 1].set_ylabel('{}'.format(lab_recall))\n",
        "axs[0, 1].legend()\n",
        "\n",
        "# Plot training & validation precision values\n",
        "axs[1, 0].plot(history.history['{}'.format(lab_precision)], label='Training {}'.format(lab_precision))\n",
        "axs[1, 0].plot(history.history['val_{}'.format(lab_precision)], label='Validation {}'.format(lab_precision))\n",
        "axs[1, 0].set_title('Model {}'.format(lab_precision))\n",
        "axs[1, 0].set_xlabel('Epoch')\n",
        "axs[1, 0].set_ylabel('{}'.format(lab_precision))\n",
        "axs[1, 0].legend()\n",
        "\n",
        "# Plot training & validation precision values\n",
        "axs[1, 1].plot(history.history['{}'.format(lab_f1_score)], label='Training {}'.format(lab_f1_score))\n",
        "axs[1, 1].plot(history.history['val_{}'.format(lab_f1_score)], label='Validation {}'.format(lab_f1_score))\n",
        "axs[1, 1].set_title('Model {}'.format(lab_f1_score))\n",
        "axs[1, 1].set_xlabel('Epoch')\n",
        "axs[1, 1].set_ylabel('{}'.format(lab_f1_score))\n",
        "axs[1, 1].legend()\n",
        "\n",
        "\n",
        "# Adjust spacing between subplots\n",
        "plt.tight_layout()\n",
        "\n",
        "# Show the plot\n",
        "plt.show()\n"
      ]
    },
    {
      "cell_type": "code",
      "execution_count": 61,
      "metadata": {
        "id": "c2RcfD8tCbDS"
      },
      "outputs": [],
      "source": [
        "lab = ['0','1','10','2','3','4','5','6','7','8','9']"
      ]
    },
    {
      "cell_type": "code",
      "execution_count": null,
      "metadata": {
        "colab": {
          "base_uri": "https://localhost:8080/"
        },
        "id": "ow-xv_A_4Mag",
        "outputId": "028327bc-7bf4-412c-f8f5-e14c1403901b"
      },
      "outputs": [],
      "source": [
        "# Predict using the trained model\n",
        "# Replace 'image_path' with the path to the image you want to predict\n",
        "\n",
        "from tensorflow.keras.preprocessing import image\n",
        "import numpy as np\n",
        "\n",
        "image_path = './roadsign-clf-2/valid/3/N_2_117423_jpg.rf.da093e2b05bfc5a622dd4a4ec57cca33.jpg'\n",
        "img = image.load_img(image_path, target_size=(64,64))\n",
        "# img = img.convert('L')\n",
        "img_array = image.img_to_array(img)\n",
        "img_array /= 255.0  # Normalize the image\n",
        "img_array = np.expand_dims(img_array, axis=0)\n",
        "\n",
        "predictions = model.predict(img_array)\n",
        "class_index = np.argmax(predictions)\n",
        "# You can map the class index to class labels based on your dataset\n",
        "\n",
        "print(f\"Predicted class: {lab[class_index]}\")"
      ]
    },
    {
      "cell_type": "code",
      "execution_count": null,
      "metadata": {
        "colab": {
          "base_uri": "https://localhost:8080/"
        },
        "id": "s40FoFCV6gNs",
        "outputId": "8444f609-47cd-4280-9efa-c0eb01179343"
      },
      "outputs": [],
      "source": [
        "predictions"
      ]
    }
  ],
  "metadata": {
    "colab": {
      "provenance": []
    },
    "kernelspec": {
      "display_name": "Python 3",
      "name": "python3"
    },
    "language_info": {
      "codemirror_mode": {
        "name": "ipython",
        "version": 3
      },
      "file_extension": ".py",
      "mimetype": "text/x-python",
      "name": "python",
      "nbconvert_exporter": "python",
      "pygments_lexer": "ipython3",
      "version": "3.11.6"
    }
  },
  "nbformat": 4,
  "nbformat_minor": 0
}
